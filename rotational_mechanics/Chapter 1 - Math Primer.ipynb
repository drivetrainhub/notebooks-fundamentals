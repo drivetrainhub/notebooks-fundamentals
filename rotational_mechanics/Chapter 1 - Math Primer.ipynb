{
 "cells": [
  {
   "cell_type": "markdown",
   "metadata": {},
   "source": [
    "[<img align=\"left\" width=\"140px\" src=\"https://storage.googleapis.com/static.drivetrainhub.com/img/dh_logo_text_217x80.png\"/>](https://www.drivetrainhub.com)\n",
    "\n",
    "<div align=\"right\">© 2019 Drivetrain Hub LLC</div>"
   ]
  },
  {
   "cell_type": "markdown",
   "metadata": {},
   "source": [
    "# Rotational Mechanics / Math Primer\n",
    "---\n",
    "\n",
    "**Authors**:  [Chad Glinsky](https://github.com/glinskyc)\n",
    "\n",
    "**Description**:  Mathematics primer for drivetrain engineering rotational mechanics in three-dimensional Euclidean space."
   ]
  },
  {
   "cell_type": "markdown",
   "metadata": {},
   "source": [
    "## Table of Contents\n",
    "\n",
    "1. [Introduction](#Introduction)\n",
    "    1. [Nomenclature](#Nomenclature)\n",
    "1. [Vectors](#Vectors)\n",
    "    1. [Dot Product](#Dot-Product)\n",
    "    1. [Cross Product](#Cross-Product)\n",
    "    1. [Euler Formula](#Euler-Formula)\n",
    "1. [Linear Algebra](#Linear-Algebra)\n",
    "    1. [System of Equations](#System-of-Equations)\n",
    "    1. [Rotation Matrix](#Rotation-Matrix)\n",
    "1. [References](#References)"
   ]
  },
  {
   "cell_type": "markdown",
   "metadata": {
    "tags": [
     "hide_cell"
    ]
   },
   "source": [
    "#### Notebook imports and settings"
   ]
  },
  {
   "cell_type": "code",
   "execution_count": null,
   "metadata": {
    "tags": [
     "hide_cell"
    ]
   },
   "outputs": [],
   "source": [
    "# FIXME determine which of these imports is actually needed, if any\n",
    "# %matplotlib inline\n",
    "# import matplotlib.pyplot as plt\n",
    "# from mpl_toolkits.mplot3d import Axes3D\n",
    "# from math import pi, radians, degrees, isclose\n",
    "# import numpy as np\n",
    "# import pandas as pd\n",
    "# from IPython.display import display, HTML\n",
    "\n",
    "# notebook modules\n",
    "import math_primer as mp\n",
    "\n",
    "# settings\n",
    "FIGSIZE = (6, 6)  # size of plots\n",
    "plt.rcParams.update({'font.size': 12})  # set default font size"
   ]
  },
  {
   "cell_type": "code",
   "execution_count": null,
   "metadata": {
    "tags": [
     "hide_cell"
    ]
   },
   "outputs": [],
   "source": [
    "# DEVELOPMENT USE: %autoreload 1\n",
    "# PRODUCTION USE: %autoreload 0\n",
    "%load_ext autoreload\n",
    "%autoreload 1\n",
    "%aimport math_primer"
   ]
  },
  {
   "cell_type": "markdown",
   "metadata": {},
   "source": [
    "**[TODO decide if these are needed:]**\n",
    "\n",
    "$\\LaTeX$ commands\n",
    "$\\newcommand{\\deg}{^\\circ}$"
   ]
  },
  {
   "cell_type": "markdown",
   "metadata": {},
   "source": [
    "## Introduction\n",
    "\n",
    "TODO"
   ]
  },
  {
   "cell_type": "markdown",
   "metadata": {},
   "source": [
    "### Nomenclature\n",
    "\n",
    "**[TODO update symbols based on notations used throughout notebook]**\n",
    "\n",
    "<table style=\"margin-left: 0\">\n",
    "    <tr>\n",
    "        <th>Symbol</th>\n",
    "        <th style=\"text-align:left\">Description</th>\n",
    "    </tr>\n",
    "    <tr>\n",
    "        <td style=\"text-align:left\">$r$</td>\n",
    "        <td style=\"text-align:left\">Radius</td>\n",
    "    </tr>\n",
    "    <tr>\n",
    "        <td style=\"text-align:left\">$\\theta$</td>\n",
    "        <td style=\"text-align:left\">Angle of rotation</td>\n",
    "    </tr>\n",
    "    <tr>\n",
    "        <td style=\"text-align:left\">$\\phi$</td>\n",
    "        <td style=\"text-align:left\">Azimuth angle</td>\n",
    "    </tr>\n",
    "    <tr>\n",
    "        <td style=\"text-align:left\">$v$</td>\n",
    "        <td style=\"text-align:left\">Linear velocity</td>\n",
    "    </tr>\n",
    "    <tr>\n",
    "        <td style=\"text-align:left\">$\\omega$</td>\n",
    "        <td style=\"text-align:left\">Angular velocity</td>\n",
    "    </tr>\n",
    "    <tr>\n",
    "        <td style=\"text-align:left\">$\\tau$</td>\n",
    "        <td style=\"text-align:left\">Torque</td>\n",
    "    </tr>\n",
    "    <tr>\n",
    "        <td style=\"text-align:left\">$i$</td>\n",
    "        <td style=\"text-align:left\">Imaginary number</td>\n",
    "    </tr>\n",
    "    <tr>\n",
    "        <td style=\"text-align:left\">$R$</td>\n",
    "        <td style=\"text-align:left\">Rotation matrix</td>\n",
    "    </tr>\n",
    "    <tr>\n",
    "        <td style=\"text-align:left\">$\\alpha$</td>\n",
    "        <td style=\"text-align:left\">Euler angle about $z$ axis</td>\n",
    "    </tr>\n",
    "    <tr>\n",
    "        <td style=\"text-align:left\">$\\beta$</td>\n",
    "        <td style=\"text-align:left\">Euler angle about $x'$ axis</td>\n",
    "    </tr>\n",
    "    <tr>\n",
    "        <td style=\"text-align:left\">$\\gamma$</td>\n",
    "        <td style=\"text-align:left\">Euler angle about $z''$ axis</td>\n",
    "    </tr>\n",
    "</table>\n",
    "\n",
    "Any symbols combined with a overhead arrow, $\\vec{}$, indicates a *vector*, a term with magnitude and direction.  For example, $\\vec{v}$ is a linear velocity vector."
   ]
  },
  {
   "cell_type": "markdown",
   "metadata": {},
   "source": [
    "## Vectors\n",
    "\n",
    "TODO\n",
    "\n",
    "<img src=\"./img/placeholder.png\" alt=\"Vector magnitude and direction\" style=\"max-height: 200px\"/>\n",
    "<p style=\"text-align: center; font-weight: bold;\">Vector magnitude and direction</p>\n",
    "\n",
    "<div class=\"alert alert-block alert-info\" style=\"box-shadow: 2px 2px 4px 0px rgba(0, 0, 0, .13);\">\n",
    "    <b>TODO example alert box.</b>  \n",
    "    <br><br>\n",
    "    TODO more description.\n",
    "</div>"
   ]
  },
  {
   "cell_type": "markdown",
   "metadata": {},
   "source": [
    "### Dot Product\n",
    "\n",
    "TODO explain\n",
    "\n",
    "**[TODO Inkscape of dot product]**\n",
    "\n",
    "Common applications of the cross product include:\n",
    "\n",
    "1. TODO"
   ]
  },
  {
   "cell_type": "markdown",
   "metadata": {},
   "source": [
    "### Cross Product\n",
    "\n",
    "TODO explain\n",
    "\n",
    "**[TODO Inkscape of cross product]**\n",
    "\n",
    "Common applications of the cross product include:\n",
    "\n",
    "1. Calculate linear velocity of a point in 3-dimensional space:  $\\vec{v} = \\vec{r} \\times \\vec{\\omega}$\n",
    "2. Calculate torque TODO"
   ]
  },
  {
   "cell_type": "markdown",
   "metadata": {},
   "source": [
    "<div class=\"alert alert-block alert-warning\" style=\"box-shadow: 2px 2px 4px 0px rgba(0, 0, 0, .13);\">\n",
    "    <h3>Example | Vector Products<a name=\"Example-1\"></a></h3>\n",
    "    <h4>GIVEN</h4>\n",
    "    Two vectors in three-dimensional space oriented at an angle relative to each other.\n",
    "    <h4>FIND</h4>\n",
    "    1) Dot product of the vectors.<br>\n",
    "    2) Cross product of the vectors.\n",
    "    <h4>SOLUTION</h4>\n",
    "    See below.\n",
    "</div>"
   ]
  },
  {
   "cell_type": "markdown",
   "metadata": {},
   "source": [
    "## Complex Vectors\n",
    "\n",
    "TODO explain when complex vectors are useful / applicable (rotating vector, capable of describing phasing information since real *and* imaginary components exist)\n",
    "\n",
    "### Periodic Signals\n",
    "\n",
    "TODO explain representation of periodic signals"
   ]
  },
  {
   "cell_type": "markdown",
   "metadata": {},
   "source": [
    "### Euler Formula\n",
    "\n",
    "TODO (reference phasing notebook)\n",
    "\n",
    "TODO show how they can be summed and multiplied\n",
    "\n",
    "**[TODO illustration to relate complex vectors to waveform]**"
   ]
  },
  {
   "cell_type": "markdown",
   "metadata": {},
   "source": [
    "<div class=\"alert alert-block alert-warning\" style=\"box-shadow: 2px 2px 4px 0px rgba(0, 0, 0, .13);\">\n",
    "    <h3>Example | Complex Vector Math<a name=\"Example-1\"></a></h3>\n",
    "    <h4>GIVEN</h4>\n",
    "    Two higher frequency periodic signals, of the same frequency, and one low frequency periodic signal.\n",
    "    <h4>FIND</h4>\n",
    "    1) Euler formula of each signal.<br>\n",
    "    2) Sum of signals with the same frequency.<br>\n",
    "    3) Product of signals with different frequencies.\n",
    "    <h4>SOLUTION</h4>\n",
    "    See below.\n",
    "</div>"
   ]
  },
  {
   "cell_type": "markdown",
   "metadata": {},
   "source": [
    "## Linear Algebra\n",
    "\n",
    "TODO"
   ]
  },
  {
   "cell_type": "markdown",
   "metadata": {},
   "source": [
    "### System of Equations\n",
    "\n",
    "TODO\n",
    "\n",
    "#### Formulation\n",
    "\n",
    "TODO\n",
    "\n",
    "#### Solution\n",
    "\n",
    "TODO"
   ]
  },
  {
   "cell_type": "markdown",
   "metadata": {},
   "source": [
    "<div class=\"alert alert-block alert-warning\" style=\"box-shadow: 2px 2px 4px 0px rgba(0, 0, 0, .13);\">\n",
    "    <h3>Example | Linear System<a name=\"Example-1\"></a></h3>\n",
    "    <h4>GIVEN</h4>System of linear equations.\n",
    "    <h4>FIND</h4>Solve for all system variables.\n",
    "    <h4>SOLUTION</h4>See below.\n",
    "</div>"
   ]
  },
  {
   "cell_type": "code",
   "execution_count": null,
   "metadata": {
    "tags": [
     "hide_input"
    ]
   },
   "outputs": [],
   "source": [
    "# GIVEN\n",
    "# -----\n",
    "# TODO set of linear eqns\n",
    "\n",
    "# SOLUTION\n",
    "# --------\n",
    "# matrix formulation\n",
    "# TODO\n",
    "\n",
    "# solve system of equations\n",
    "# TODO"
   ]
  },
  {
   "cell_type": "markdown",
   "metadata": {},
   "source": [
    "### Rotation Matrix\n",
    "\n",
    "TODO \n",
    "\n",
    "#### Transform\n",
    "\n",
    "TODO include explanation of passive/active transforms\n",
    "\n",
    "#### Axis rotation\n",
    "\n",
    "TODO\n",
    "\n",
    "#### Euler angles\n",
    "\n",
    "TODO"
   ]
  },
  {
   "cell_type": "markdown",
   "metadata": {},
   "source": [
    "<div class=\"alert alert-block alert-warning\" style=\"box-shadow: 2px 2px 4px 0px rgba(0, 0, 0, .13);\">\n",
    "    <h3>Example | Rotation Matrix<a name=\"Example-1\"></a></h3>\n",
    "    <h4>GIVEN</h4>\n",
    "    Rotation matrix representing the orientation of an object in 3-dimensional space.\n",
    "    <h4>FIND</h4>\n",
    "    1) New rotation matrix when rotated by $90\\deg$ about the global Y-axis.<br>\n",
    "    2) New rotation matrix when rotated by Euler angles:  (TODO symbols?) $\\beta = 90\\deg$, $\\gamma = 90\\deg$, and $\\theta = 45\\deg$.\n",
    "    <h4>SOLUTION</h4>\n",
    "    The solution to (1) can be visualized as:<br>\n",
    "    <b>TODO Inkscape of (1), showing a rotated cube sequence</b>\n",
    "    <br><br>\n",
    "    The solution to (2) can be visualized as:<br>\n",
    "    <b>TODO Inkscape of (2), showing a rotated cube sequence after each Euler angle</b>\n",
    "    <br><br>\n",
    "    See below for mathematical solutions.\n",
    "</div>"
   ]
  },
  {
   "cell_type": "code",
   "execution_count": null,
   "metadata": {
    "tags": [
     "hide_input"
    ]
   },
   "outputs": [],
   "source": [
    "# GIVEN\n",
    "# -----\n",
    "# TODO initial rotation matrix\n",
    "\n",
    "# SOLUTION (1)\n",
    "# ------------\n",
    "# TODO rotate about an axis\n",
    "\n",
    "# SOLUTION (2)\n",
    "# ------------\n",
    "# TODO rotate by Euler angles"
   ]
  },
  {
   "cell_type": "markdown",
   "metadata": {},
   "source": [
    "---\n",
    "\n",
    "<div class=\"alert alert-block alert-info\" style=\"box-shadow: 2px 2px 4px 0px rgba(0, 0, 0, .13);\">\n",
    "    <h3>Learn More</h3><br>\n",
    "    Continue reading the <a href=\"https://www.drivetrainhub.com/code/notebooks\">Drivetrain Hub | Notebook Series</a> to learn more about rotational mechanics and drivetrain engineering.\n",
    "</div>"
   ]
  },
  {
   "cell_type": "markdown",
   "metadata": {},
   "source": [
    "<div class=\"alert alert-block alert-info\" style=\"box-shadow: 2px 2px 4px 0px rgba(0, 0, 0, .13);\">\n",
    "    <h3>Mathematically Model Drivetrains</h3><br>\n",
    "    Accurately model the geometry and rotational mechanics of gear systems in 3-dimensional space with the <b>Drivetrain Hub | Gears App</b>, a modern drivetrain modeling environment 100% online at <a href=\"https://www.drivetrainhub.com\">www.drivetrainhub.com</a>.\n",
    "</div>"
   ]
  },
  {
   "cell_type": "markdown",
   "metadata": {},
   "source": [
    "<div class=\"alert alert-block alert-info\" style=\"box-shadow: 2px 2px 4px 0px rgba(0, 0, 0, .13);\">\n",
    "    <h3>Improve Notebook</h3><br>\n",
    "    Our notebooks are publicly hosted in <a href=\"https://github.com/drivetrainhub/notebooks/\">GitHub repositories</a>, available for anyone to view and propose edits.\n",
    "</div>"
   ]
  },
  {
   "cell_type": "markdown",
   "metadata": {},
   "source": [
    "## References\n",
    "\n",
    "TODO refine these:\n",
    "1. Statics; Hibbler textbook\n",
    "1. Linear Algebra textbook\n",
    "1. [Wolfram MathWorld - Dot product](http://mathworld.wolfram.com/DotProduct.html)\n",
    "1. [Wolfram MathWorld - Cross product](http://mathworld.wolfram.com/CrossProduct.html)\n",
    "1. [Wolfram MathWorld - Euler formula](http://mathworld.wolfram.com/EulerFormula.html)\n",
    "1. [Wolfram MathWorld - Rotation matrix](http://mathworld.wolfram.com/RotationMatrix.html)\n",
    "1. [Wolfram MathWorld - Euler angles](http://mathworld.wolfram.com/EulerAngles.html)\n",
    "1. [Wikipedia - Dot product](https://en.wikipedia.org/wiki/Dot_product)\n",
    "1. [Wikipedia - Cross product](https://en.wikipedia.org/wiki/Dot_product)\n",
    "1. [Wikipedia - Euler's formula](https://en.wikipedia.org/wiki/Euler%27s_formula)\n",
    "1. [Wikipedia - Rotation matrix](https://en.wikipedia.org/wiki/Rotation_matrix)\n",
    "1. [Wikipedia - Euler angles](https://en.wikipedia.org/wiki/Euler_angles)"
   ]
  }
 ],
 "metadata": {
  "celltoolbar": "Tags",
  "kernelspec": {
   "display_name": "Python 3",
   "language": "python",
   "name": "python3"
  },
  "language_info": {
   "codemirror_mode": {
    "name": "ipython",
    "version": 3
   },
   "file_extension": ".py",
   "mimetype": "text/x-python",
   "name": "python",
   "nbconvert_exporter": "python",
   "pygments_lexer": "ipython3",
   "version": "3.7.2"
  }
 },
 "nbformat": 4,
 "nbformat_minor": 2
}
